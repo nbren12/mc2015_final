{
 "cells": [
  {
   "cell_type": "code",
   "execution_count": null,
   "metadata": {
    "collapsed": false
   },
   "outputs": [],
   "source": [
    "%pylab inline\n",
    "from mpl_toolkits.mplot3d import Axes3D\n"
   ]
  },
  {
   "cell_type": "markdown",
   "metadata": {},
   "source": [
    "## Plotting output of lorenz63 system"
   ]
  },
  {
   "cell_type": "code",
   "execution_count": null,
   "metadata": {
    "collapsed": false
   },
   "outputs": [],
   "source": [
    "!./src/test_integrate > /dev/null"
   ]
  },
  {
   "cell_type": "code",
   "execution_count": null,
   "metadata": {
    "collapsed": true
   },
   "outputs": [],
   "source": [
    "a = genfromtxt(\"output.txt\")\n",
    "\n",
    "t = a[:,0]\n",
    "a = a[:,1:]"
   ]
  },
  {
   "cell_type": "code",
   "execution_count": null,
   "metadata": {
    "collapsed": false
   },
   "outputs": [],
   "source": [
    "fig =figure()\n",
    "ax = fig.add_subplot(111, projection='3d')\n",
    "ax.plot(*a.T, alpha=.4)"
   ]
  },
  {
   "cell_type": "code",
   "execution_count": null,
   "metadata": {
    "collapsed": false
   },
   "outputs": [],
   "source": [
    "for i in range(3):\n",
    "    figure()\n",
    "    plot(t, a[:,i])"
   ]
  },
  {
   "cell_type": "markdown",
   "metadata": {},
   "source": [
    "Autocorrelation results:\n",
    "\n",
    "the autocorrelation time for the default parameters is around 5. This is the upper limit to be used for \n",
    "$\\tau$."
   ]
  },
  {
   "cell_type": "code",
   "execution_count": null,
   "metadata": {
    "collapsed": false
   },
   "outputs": [],
   "source": [
    "def acfplot(x, t=None, nlags=10000):\n",
    "    from statsmodels.tsa.stattools import acf\n",
    "    \n",
    "    \n",
    "    ac = acf(x, nlags=nlags)\n",
    "    if t is None:\n",
    "        t = np.arange(nlags)\n",
    "    else:\n",
    "        t = t[:nlags]\n",
    "    plot(t, ac)\n",
    "\n",
    "for i in range(3):\n",
    "    figure()\n",
    "    acfplot(a[:,i], t=t)"
   ]
  }
 ],
 "metadata": {
  "kernelspec": {
   "display_name": "Python 3",
   "language": "python",
   "name": "python3"
  },
  "language_info": {
   "codemirror_mode": {
    "name": "ipython",
    "version": 3
   },
   "file_extension": ".py",
   "mimetype": "text/x-python",
   "name": "python",
   "nbconvert_exporter": "python",
   "pygments_lexer": "ipython3",
   "version": "3.4.3"
  }
 },
 "nbformat": 4,
 "nbformat_minor": 0
}
