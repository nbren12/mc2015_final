{
 "cells": [
  {
   "cell_type": "code",
   "execution_count": null,
   "metadata": {
    "collapsed": false
   },
   "outputs": [],
   "source": [
    "%pylab inline\n",
    "from pylab import *\n",
    "from statsmodels.tsa.stattools import acf\n",
    "from mpl_toolkits.mplot3d import Axes3D\n",
    "from toolz import juxt\n",
    "from run import *"
   ]
  },
  {
   "cell_type": "code",
   "execution_count": null,
   "metadata": {
    "collapsed": true
   },
   "outputs": [],
   "source": [
    "def plot_3d(t, a):\n",
    "    fig = figure()\n",
    "    ax =fig.add_subplot(111, projection='3d')\n",
    "    ax.plot(*a)\n",
    "    ax.set_xlabel('x')\n",
    "    ax.set_ylabel('y')\n",
    "    ax.set_zlabel('z')\n",
    "\n",
    "# Functions for plotting samples\n",
    "def plot_samples(df):\n",
    "    figure()\n",
    "    df[['sigma', 'beta', 'r']].plot(subplots=True)\n",
    "    xlabel('Samples')\n",
    "    \n",
    "    return gcf()\n",
    "\n",
    "def plot_kde(df):\n",
    "    figure()\n",
    "    axs = df[['sigma', 'beta' ,'r']].plot(kind='kde', subplots=True, sharex=False)\n",
    "    axs[0].axvline(10, c='k', ls='--')\n",
    "    axs[1].axvline(8/3, c='k',ls='--')\n",
    "    axs[2].axvline(28, c='k', ls='--')\n",
    "    \n",
    "    return gcf()\n",
    "\n",
    "def plot_acf(df, nlags=300):\n",
    "    ncol = df.shape[1]\n",
    "    fig, axs = subplots(ncol, 1, sharex=True)\n",
    "    for ax, col in zip(axs.flat, df.columns):\n",
    "        ac, confint = acf(df[col], nlags=nlags, alpha=.05)\n",
    "        ax.plot(ac)\n",
    "        ax.plot(confint,'r--')\n",
    "        ax.set_ylabel(col)\n",
    "        \n",
    "    return fig\n",
    "        \n",
    "\n",
    "def plot_all(df, title, prefix=None):\n",
    "    figs= juxt(plot_samples, plot_kde, plot_acf)(df)\n",
    "    for i, fig in enumerate(figs):\n",
    "        fig.suptitle(title)\n",
    "        if prefix is not None:\n",
    "            fig.savefig(prefix +\"-\" + str(i) + \".svg\")\n",
    "    return figs\n",
    "        \n",
    "def qrunplot(*args, prefix=None, **kwargs):\n",
    "    df, title = sample(*args, **kwargs)\n",
    "    plot_all(df.drop('noise',1), title, prefix=prefix)"
   ]
  },
  {
   "cell_type": "code",
   "execution_count": null,
   "metadata": {
    "collapsed": true
   },
   "outputs": [],
   "source": [
    "style.use('slides')"
   ]
  },
  {
   "cell_type": "markdown",
   "metadata": {},
   "source": [
    "## Plotting output of lorenz63 system"
   ]
  },
  {
   "cell_type": "code",
   "execution_count": null,
   "metadata": {
    "collapsed": false
   },
   "outputs": [],
   "source": [
    "plot_3d(*run(nt=20/.01, r=28, noise=0.0))"
   ]
  },
  {
   "cell_type": "markdown",
   "metadata": {},
   "source": [
    "## Analysis of Sampler"
   ]
  },
  {
   "cell_type": "markdown",
   "metadata": {},
   "source": [
    "### Example of Traces"
   ]
  },
  {
   "cell_type": "code",
   "execution_count": null,
   "metadata": {
    "collapsed": false
   },
   "outputs": [],
   "source": [
    "df, title = sample(N=2000, nt=10, tau=.5, beta=0.5, noise=1.0)"
   ]
  },
  {
   "cell_type": "code",
   "execution_count": null,
   "metadata": {
    "collapsed": false
   },
   "outputs": [],
   "source": [
    "df.tail()"
   ]
  },
  {
   "cell_type": "code",
   "execution_count": null,
   "metadata": {
    "collapsed": false
   },
   "outputs": [],
   "source": [
    "df[['sigma', 'beta', 'r']].plot(subplots=True, figsize=(5,4));\n",
    "xlabel('Samples')"
   ]
  },
  {
   "cell_type": "markdown",
   "metadata": {},
   "source": [
    "### Changing $\\tau$"
   ]
  },
  {
   "cell_type": "code",
   "execution_count": null,
   "metadata": {
    "collapsed": false
   },
   "outputs": [],
   "source": [
    "qrunplot(N=2000, nt=10, tau=.5, beta=0.2, noise=0.0, prefix=\"tau-.5\")"
   ]
  },
  {
   "cell_type": "code",
   "execution_count": null,
   "metadata": {
    "collapsed": false
   },
   "outputs": [],
   "source": [
    "qrunplot(N=2000, nt=10, tau=1.0, beta=0.2, noise=0.0, prefix=\"tau-1.0\")"
   ]
  },
  {
   "cell_type": "code",
   "execution_count": null,
   "metadata": {
    "collapsed": false
   },
   "outputs": [],
   "source": [
    "qrunplot(N=2000, nt=10, tau=5.0, beta=0.2, noise=0.0, prefix=\"tau5.0\")"
   ]
  },
  {
   "cell_type": "markdown",
   "metadata": {},
   "source": [
    "It works for short times $\\tau$, but fails for longer values."
   ]
  }
 ],
 "metadata": {
  "kernelspec": {
   "display_name": "Python 3",
   "language": "python",
   "name": "python3"
  },
  "language_info": {
   "codemirror_mode": {
    "name": "ipython",
    "version": 3
   },
   "file_extension": ".py",
   "mimetype": "text/x-python",
   "name": "python",
   "nbconvert_exporter": "python",
   "pygments_lexer": "ipython3",
   "version": "3.4.3"
  }
 },
 "nbformat": 4,
 "nbformat_minor": 0
}
